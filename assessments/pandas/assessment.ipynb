{
 "cells": [
  {
   "cell_type": "code",
   "execution_count": 1,
   "metadata": {},
   "outputs": [],
   "source": [
    "# Q1: import numpy and pandas\n",
    "\n",
    "import numpy as np\n",
    "import pandas as pd"
   ]
  },
  {
   "cell_type": "code",
   "execution_count": 2,
   "metadata": {},
   "outputs": [],
   "source": [
    "# Q2: Set options in pandas (following assessment guidelines):\n",
    "\n",
    "pd.options.display.max_rows = 30\n",
    "pd.options.display.max_columns = None\n",
    "pd.options.display.precision = 3\n",
    "pd.options.display.max_columns"
   ]
  },
  {
   "cell_type": "code",
   "execution_count": 3,
   "metadata": {},
   "outputs": [
    {
     "name": "stdout",
     "output_type": "stream",
     "text": [
      "Pandas version: 1.1.3 \n",
      "NumPy version:  1.19.2\n"
     ]
    }
   ],
   "source": [
    "# Q3: assign the versions of pandas and numpy to variables below\n",
    "\n",
    "pd_version = pd.__version__\n",
    "np_version = np.__version__\n",
    "\n",
    "print(f\"Pandas version: {pd_version} \\nNumPy version:  {np_version}\")"
   ]
  },
  {
   "cell_type": "code",
   "execution_count": 4,
   "metadata": {},
   "outputs": [
    {
     "data": {
      "text/html": [
       "<div>\n",
       "<style scoped>\n",
       "    .dataframe tbody tr th:only-of-type {\n",
       "        vertical-align: middle;\n",
       "    }\n",
       "\n",
       "    .dataframe tbody tr th {\n",
       "        vertical-align: top;\n",
       "    }\n",
       "\n",
       "    .dataframe thead th {\n",
       "        text-align: right;\n",
       "    }\n",
       "</style>\n",
       "<table border=\"1\" class=\"dataframe\">\n",
       "  <thead>\n",
       "    <tr style=\"text-align: right;\">\n",
       "      <th></th>\n",
       "      <th>Unnamed: 0</th>\n",
       "      <th>region</th>\n",
       "      <th>area</th>\n",
       "      <th>palmitic</th>\n",
       "      <th>palmitoleic</th>\n",
       "      <th>stearic</th>\n",
       "      <th>oleic</th>\n",
       "      <th>linoleic</th>\n",
       "      <th>linolenic</th>\n",
       "      <th>arachidic</th>\n",
       "      <th>eicosenoic</th>\n",
       "    </tr>\n",
       "  </thead>\n",
       "  <tbody>\n",
       "    <tr>\n",
       "      <th>231</th>\n",
       "      <td>232.South-Apulia</td>\n",
       "      <td>1</td>\n",
       "      <td>3</td>\n",
       "      <td>1341</td>\n",
       "      <td>155</td>\n",
       "      <td>244</td>\n",
       "      <td>6958</td>\n",
       "      <td>1144</td>\n",
       "      <td>32</td>\n",
       "      <td>68</td>\n",
       "      <td>26</td>\n",
       "    </tr>\n",
       "    <tr>\n",
       "      <th>268</th>\n",
       "      <td>269.Sicily</td>\n",
       "      <td>1</td>\n",
       "      <td>4</td>\n",
       "      <td>1284</td>\n",
       "      <td>93</td>\n",
       "      <td>265</td>\n",
       "      <td>7235</td>\n",
       "      <td>893</td>\n",
       "      <td>43</td>\n",
       "      <td>77</td>\n",
       "      <td>46</td>\n",
       "    </tr>\n",
       "    <tr>\n",
       "      <th>315</th>\n",
       "      <td>316.South-Apulia</td>\n",
       "      <td>1</td>\n",
       "      <td>3</td>\n",
       "      <td>1419</td>\n",
       "      <td>203</td>\n",
       "      <td>176</td>\n",
       "      <td>6973</td>\n",
       "      <td>1083</td>\n",
       "      <td>38</td>\n",
       "      <td>78</td>\n",
       "      <td>27</td>\n",
       "    </tr>\n",
       "    <tr>\n",
       "      <th>391</th>\n",
       "      <td>392.Inland-Sardinia</td>\n",
       "      <td>2</td>\n",
       "      <td>5</td>\n",
       "      <td>1105</td>\n",
       "      <td>120</td>\n",
       "      <td>218</td>\n",
       "      <td>7302</td>\n",
       "      <td>1158</td>\n",
       "      <td>23</td>\n",
       "      <td>45</td>\n",
       "      <td>3</td>\n",
       "    </tr>\n",
       "    <tr>\n",
       "      <th>179</th>\n",
       "      <td>180.South-Apulia</td>\n",
       "      <td>1</td>\n",
       "      <td>3</td>\n",
       "      <td>1294</td>\n",
       "      <td>159</td>\n",
       "      <td>253</td>\n",
       "      <td>7009</td>\n",
       "      <td>1190</td>\n",
       "      <td>30</td>\n",
       "      <td>52</td>\n",
       "      <td>13</td>\n",
       "    </tr>\n",
       "  </tbody>\n",
       "</table>\n",
       "</div>"
      ],
      "text/plain": [
       "              Unnamed: 0  region  area  palmitic  palmitoleic  stearic  oleic  \\\n",
       "231     232.South-Apulia       1     3      1341          155      244   6958   \n",
       "268           269.Sicily       1     4      1284           93      265   7235   \n",
       "315     316.South-Apulia       1     3      1419          203      176   6973   \n",
       "391  392.Inland-Sardinia       2     5      1105          120      218   7302   \n",
       "179     180.South-Apulia       1     3      1294          159      253   7009   \n",
       "\n",
       "     linoleic  linolenic  arachidic  eicosenoic  \n",
       "231      1144         32         68          26  \n",
       "268       893         43         77          46  \n",
       "315      1083         38         78          27  \n",
       "391      1158         23         45           3  \n",
       "179      1190         30         52          13  "
      ]
     },
     "execution_count": 4,
     "metadata": {},
     "output_type": "execute_result"
    }
   ],
   "source": [
    "# Q4: Read in the csv file \"olive.csv\" with pandas. \n",
    "#     The filename is stored in the variable `olive_path`\n",
    "#     Assign it to variable `df`\n",
    "\n",
    "olive_path = 'olive.csv'\n",
    "df = pd.read_csv(olive_path)\n",
    "\n",
    "df.sample(5, random_state=0)"
   ]
  },
  {
   "cell_type": "code",
   "execution_count": 5,
   "metadata": {},
   "outputs": [
    {
     "data": {
      "text/plain": [
       "(572, 11)"
      ]
     },
     "execution_count": 5,
     "metadata": {},
     "output_type": "execute_result"
    }
   ],
   "source": [
    "# Q5: How many rows and columns are there in `df`? Put your answer in a variable `df_shape`.\n",
    "df_shape = df.shape\n",
    "df_shape"
   ]
  },
  {
   "cell_type": "code",
   "execution_count": 6,
   "metadata": {},
   "outputs": [
    {
     "data": {
      "text/html": [
       "<div>\n",
       "<style scoped>\n",
       "    .dataframe tbody tr th:only-of-type {\n",
       "        vertical-align: middle;\n",
       "    }\n",
       "\n",
       "    .dataframe tbody tr th {\n",
       "        vertical-align: top;\n",
       "    }\n",
       "\n",
       "    .dataframe thead th {\n",
       "        text-align: right;\n",
       "    }\n",
       "</style>\n",
       "<table border=\"1\" class=\"dataframe\">\n",
       "  <thead>\n",
       "    <tr style=\"text-align: right;\">\n",
       "      <th></th>\n",
       "      <th>Unnamed: 0</th>\n",
       "      <th>region</th>\n",
       "      <th>area</th>\n",
       "      <th>palmitic</th>\n",
       "      <th>palmitoleic</th>\n",
       "      <th>stearic</th>\n",
       "      <th>oleic</th>\n",
       "      <th>linoleic</th>\n",
       "      <th>linolenic</th>\n",
       "      <th>arachidic</th>\n",
       "      <th>eicosenoic</th>\n",
       "    </tr>\n",
       "  </thead>\n",
       "  <tbody>\n",
       "    <tr>\n",
       "      <th>0</th>\n",
       "      <td>1.North-Apulia</td>\n",
       "      <td>1</td>\n",
       "      <td>1</td>\n",
       "      <td>1075</td>\n",
       "      <td>75</td>\n",
       "      <td>226</td>\n",
       "      <td>7823</td>\n",
       "      <td>672</td>\n",
       "      <td>36</td>\n",
       "      <td>60</td>\n",
       "      <td>29</td>\n",
       "    </tr>\n",
       "    <tr>\n",
       "      <th>1</th>\n",
       "      <td>2.North-Apulia</td>\n",
       "      <td>1</td>\n",
       "      <td>1</td>\n",
       "      <td>1088</td>\n",
       "      <td>73</td>\n",
       "      <td>224</td>\n",
       "      <td>7709</td>\n",
       "      <td>781</td>\n",
       "      <td>31</td>\n",
       "      <td>61</td>\n",
       "      <td>29</td>\n",
       "    </tr>\n",
       "  </tbody>\n",
       "</table>\n",
       "</div>"
      ],
      "text/plain": [
       "       Unnamed: 0  region  area  palmitic  palmitoleic  stearic  oleic  \\\n",
       "0  1.North-Apulia       1     1      1075           75      226   7823   \n",
       "1  2.North-Apulia       1     1      1088           73      224   7709   \n",
       "\n",
       "   linoleic  linolenic  arachidic  eicosenoic  \n",
       "0       672         36         60          29  \n",
       "1       781         31         61          29  "
      ]
     },
     "execution_count": 6,
     "metadata": {},
     "output_type": "execute_result"
    }
   ],
   "source": [
    "# Q6: assign the first 2 rows of `df` to `df_first_two`\n",
    "df_first_two = df.head(2)\n",
    "df_first_two"
   ]
  },
  {
   "cell_type": "code",
   "execution_count": 7,
   "metadata": {},
   "outputs": [
    {
     "data": {
      "text/plain": [
       "2"
      ]
     },
     "execution_count": 7,
     "metadata": {},
     "output_type": "execute_result"
    }
   ],
   "source": [
    "# Q7: How many distinct data types are there in `df`?\n",
    "\n",
    "df_data_types_count = int(df.dtypes.value_counts().count())   # this should be an integer\n",
    "df_data_types_count"
   ]
  },
  {
   "cell_type": "code",
   "execution_count": 8,
   "metadata": {},
   "outputs": [
    {
     "data": {
      "text/html": [
       "<div>\n",
       "<style scoped>\n",
       "    .dataframe tbody tr th:only-of-type {\n",
       "        vertical-align: middle;\n",
       "    }\n",
       "\n",
       "    .dataframe tbody tr th {\n",
       "        vertical-align: top;\n",
       "    }\n",
       "\n",
       "    .dataframe thead th {\n",
       "        text-align: right;\n",
       "    }\n",
       "</style>\n",
       "<table border=\"1\" class=\"dataframe\">\n",
       "  <thead>\n",
       "    <tr style=\"text-align: right;\">\n",
       "      <th></th>\n",
       "      <th>sub_region_desc</th>\n",
       "      <th>region</th>\n",
       "      <th>sub_region</th>\n",
       "      <th>palmitic</th>\n",
       "      <th>palmitoleic</th>\n",
       "      <th>stearic</th>\n",
       "      <th>oleic</th>\n",
       "      <th>linoleic</th>\n",
       "      <th>linolenic</th>\n",
       "      <th>arachidic</th>\n",
       "      <th>eicosenoic</th>\n",
       "      <th>sub_region_raw</th>\n",
       "    </tr>\n",
       "  </thead>\n",
       "  <tbody>\n",
       "    <tr>\n",
       "      <th>231</th>\n",
       "      <td>232.South-Apulia</td>\n",
       "      <td>1</td>\n",
       "      <td>3</td>\n",
       "      <td>1341</td>\n",
       "      <td>155</td>\n",
       "      <td>244</td>\n",
       "      <td>6958</td>\n",
       "      <td>1144</td>\n",
       "      <td>32</td>\n",
       "      <td>68</td>\n",
       "      <td>26</td>\n",
       "      <td>232.South-Apulia</td>\n",
       "    </tr>\n",
       "    <tr>\n",
       "      <th>268</th>\n",
       "      <td>269.Sicily</td>\n",
       "      <td>1</td>\n",
       "      <td>4</td>\n",
       "      <td>1284</td>\n",
       "      <td>93</td>\n",
       "      <td>265</td>\n",
       "      <td>7235</td>\n",
       "      <td>893</td>\n",
       "      <td>43</td>\n",
       "      <td>77</td>\n",
       "      <td>46</td>\n",
       "      <td>269.Sicily</td>\n",
       "    </tr>\n",
       "    <tr>\n",
       "      <th>315</th>\n",
       "      <td>316.South-Apulia</td>\n",
       "      <td>1</td>\n",
       "      <td>3</td>\n",
       "      <td>1419</td>\n",
       "      <td>203</td>\n",
       "      <td>176</td>\n",
       "      <td>6973</td>\n",
       "      <td>1083</td>\n",
       "      <td>38</td>\n",
       "      <td>78</td>\n",
       "      <td>27</td>\n",
       "      <td>316.South-Apulia</td>\n",
       "    </tr>\n",
       "    <tr>\n",
       "      <th>391</th>\n",
       "      <td>392.Inland-Sardinia</td>\n",
       "      <td>2</td>\n",
       "      <td>5</td>\n",
       "      <td>1105</td>\n",
       "      <td>120</td>\n",
       "      <td>218</td>\n",
       "      <td>7302</td>\n",
       "      <td>1158</td>\n",
       "      <td>23</td>\n",
       "      <td>45</td>\n",
       "      <td>3</td>\n",
       "      <td>392.Inland-Sardinia</td>\n",
       "    </tr>\n",
       "    <tr>\n",
       "      <th>179</th>\n",
       "      <td>180.South-Apulia</td>\n",
       "      <td>1</td>\n",
       "      <td>3</td>\n",
       "      <td>1294</td>\n",
       "      <td>159</td>\n",
       "      <td>253</td>\n",
       "      <td>7009</td>\n",
       "      <td>1190</td>\n",
       "      <td>30</td>\n",
       "      <td>52</td>\n",
       "      <td>13</td>\n",
       "      <td>180.South-Apulia</td>\n",
       "    </tr>\n",
       "  </tbody>\n",
       "</table>\n",
       "</div>"
      ],
      "text/plain": [
       "         sub_region_desc  region  sub_region  palmitic  palmitoleic  stearic  \\\n",
       "231     232.South-Apulia       1           3      1341          155      244   \n",
       "268           269.Sicily       1           4      1284           93      265   \n",
       "315     316.South-Apulia       1           3      1419          203      176   \n",
       "391  392.Inland-Sardinia       2           5      1105          120      218   \n",
       "179     180.South-Apulia       1           3      1294          159      253   \n",
       "\n",
       "     oleic  linoleic  linolenic  arachidic  eicosenoic       sub_region_raw  \n",
       "231   6958      1144         32         68          26     232.South-Apulia  \n",
       "268   7235       893         43         77          46           269.Sicily  \n",
       "315   6973      1083         38         78          27     316.South-Apulia  \n",
       "391   7302      1158         23         45           3  392.Inland-Sardinia  \n",
       "179   7009      1190         30         52          13     180.South-Apulia  "
      ]
     },
     "execution_count": 8,
     "metadata": {},
     "output_type": "execute_result"
    }
   ],
   "source": [
    "# Q8: In `df`, create a new column 'sub_region_raw', which will be a copy of the column 'Unnamed: 0'\n",
    "df['sub_region_raw'] = df['Unnamed: 0'].copy()\n",
    "\n",
    "# Q9: In `df`, rename 'Unnamed: 0' to 'sub_region_desc'\n",
    "df.rename({'Unnamed: 0': 'sub_region_desc'}, axis=1, inplace=True)\n",
    "\n",
    "# Q10: In `df`, rename the column 'area' to: 'sub_region'\n",
    "df.rename({'area': 'sub_region'}, axis=1, inplace=True)\n",
    "\n",
    "df.sample(5, random_state=0)"
   ]
  },
  {
   "cell_type": "code",
   "execution_count": 9,
   "metadata": {},
   "outputs": [
    {
     "data": {
      "text/plain": [
       "array([1, 2, 3])"
      ]
     },
     "execution_count": 9,
     "metadata": {},
     "output_type": "execute_result"
    }
   ],
   "source": [
    "# Q11: In `df`, get the unique values of the field 'region'\n",
    "region_unique = df.region.unique()\n",
    "region_unique"
   ]
  },
  {
   "cell_type": "code",
   "execution_count": 10,
   "metadata": {},
   "outputs": [
    {
     "data": {
      "text/plain": [
       "9"
      ]
     },
     "execution_count": 10,
     "metadata": {},
     "output_type": "execute_result"
    }
   ],
   "source": [
    "# Q12: In `df`, how many unique values of the field 'sub_region' are there?\n",
    "sub_region_unique_count = int(df.sub_region.value_counts().count())  # should be an integer\n",
    "\n",
    "sub_region_unique_count"
   ]
  },
  {
   "cell_type": "code",
   "execution_count": 11,
   "metadata": {},
   "outputs": [
    {
     "data": {
      "text/plain": [
       "array(['North-Apulia', 'Calabria', 'South-Apulia', 'Sicily',\n",
       "       'Inland-Sardinia', 'Coast-Sardinia', 'Umbria', 'East-Liguria',\n",
       "       'West-Liguria'], dtype=object)"
      ]
     },
     "execution_count": 11,
     "metadata": {},
     "output_type": "execute_result"
    }
   ],
   "source": [
    "# Q13: Lets take a look at the field `sub_region_desc`:\n",
    "\n",
    "# >>> df['sub_region_desc'].head(5)\n",
    "# 0    1.North-Apulia\n",
    "# 1    2.North-Apulia\n",
    "# 2    3.North-Apulia\n",
    "# 3    4.North-Apulia\n",
    "# 4    5.North-Apulia\n",
    "\n",
    "# Looks like 'sub_region_desc' has line numbers attached to the beginning of region name.\n",
    "# Remove those and get the unique values in that field, assign it to `srd_unique`\n",
    "\n",
    "\n",
    "import re\n",
    "\n",
    "func = lambda x:re.sub(r\"^[0-9]*.\", \"\", x)\n",
    "\n",
    "srd_unique = df['sub_region_desc'].apply(func).unique()\n",
    "\n",
    "srd_unique"
   ]
  }
 ],
 "metadata": {
  "kernelspec": {
   "display_name": "Python 3",
   "language": "python",
   "name": "python3"
  },
  "language_info": {
   "codemirror_mode": {
    "name": "ipython",
    "version": 3
   },
   "file_extension": ".py",
   "mimetype": "text/x-python",
   "name": "python",
   "nbconvert_exporter": "python",
   "pygments_lexer": "ipython3",
   "version": "3.8.5"
  }
 },
 "nbformat": 4,
 "nbformat_minor": 4
}
